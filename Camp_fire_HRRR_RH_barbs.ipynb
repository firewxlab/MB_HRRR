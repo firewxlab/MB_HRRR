{
 "cells": [
  {
   "cell_type": "code",
   "execution_count": 1,
   "metadata": {
    "ExecuteTime": {
     "end_time": "2019-02-16T00:16:42.778353Z",
     "start_time": "2019-02-16T00:16:42.090518Z"
    }
   },
   "outputs": [],
   "source": [
    "import metpy.calc as mpcalc\n",
    "from metpy.units import units\n",
    "import cartopy.crs as ccrs\n",
    "import cartopy.feature as cfeature\n",
    "import matplotlib.pyplot as plt\n",
    "import numpy as np\n",
    "\n",
    "import xarray as xr\n",
    "from cartopy.mpl.gridliner import LONGITUDE_FORMATTER, LATITUDE_FORMATTER\n",
    "from cartopy.feature import ShapelyFeature,NaturalEarthFeature\n",
    "import matplotlib as mpl\n",
    "import numpy.ma as ma\n",
    "\n",
    "\n",
    "import metpy \n",
    "from metpy.plots import USCOUNTIES # Make sure metpy is updated to latest version.\n",
    "\n",
    "%matplotlib inline\n",
    "plt.rcParams.update({\"font.size\":30})\n",
    "mpl.rcParams['legend.fontsize'] = 'large'"
   ]
  },
  {
   "cell_type": "code",
   "execution_count": 2,
   "metadata": {
    "ExecuteTime": {
     "end_time": "2019-02-16T00:16:42.783819Z",
     "start_time": "2019-02-16T00:16:42.781353Z"
    }
   },
   "outputs": [],
   "source": [
    "from pathlib import Path\n",
    "\n",
    "HRRR= Path(\"/export/home/mbrewer/HRRR/hrrr.t18z.wrfprsf00_1108.nc\")\n",
    "\n",
    "el = Path(\"/export/home/mbrewer/Documents/GMTED2010_15n030_0125deg.nc\")"
   ]
  },
  {
   "cell_type": "code",
   "execution_count": 3,
   "metadata": {
    "ExecuteTime": {
     "end_time": "2019-02-16T00:16:44.833930Z",
     "start_time": "2019-02-16T00:16:42.854852Z"
    },
    "scrolled": false
   },
   "outputs": [],
   "source": [
    "ds = xr.open_dataset(HRRR)\n",
    "elev = xr.open_dataset(el)\n",
    "\n",
    "data = ds.metpy.parse_cf()"
   ]
  },
  {
   "cell_type": "code",
   "execution_count": 4,
   "metadata": {
    "ExecuteTime": {
     "end_time": "2019-02-16T00:16:44.918965Z",
     "start_time": "2019-02-16T00:16:44.835518Z"
    }
   },
   "outputs": [
    {
     "name": "stdout",
     "output_type": "stream",
     "text": [
      "[663] [220]\n"
     ]
    }
   ],
   "source": [
    "wp_lat =  39.697254\n",
    "wp_lon = -121.574221\n",
    "\n",
    "lat = data.gridlat_0\n",
    "lon = data.gridlon_0\n",
    "               \n",
    "abslat = np.abs(lat-wp_lat)\n",
    "abslon= np.abs(lon-wp_lon)\n",
    "c = np.maximum(abslon,abslat)\n",
    "xx, yy = np.where(c == np.min(c))\n",
    "print(xx,yy) "
   ]
  },
  {
   "cell_type": "code",
   "execution_count": 23,
   "metadata": {
    "ExecuteTime": {
     "end_time": "2019-02-16T00:43:58.377512Z",
     "start_time": "2019-02-16T00:43:58.347283Z"
    }
   },
   "outputs": [],
   "source": [
    "height = ds.HGT_P0_L100_GLC0\n",
    "uwind_pres = ds.UGRD_P0_L100_GLC0[:,0:int(yy+1000),0:int(xx+500)]\n",
    "vwind_pres =ds.VGRD_P0_L100_GLC0[:,0:int(yy+1000),0:int(xx+500)]\n",
    "uwind_10m = ds.UGRD_P0_L103_GLC0[0,0:int(yy+1000),0:int(xx+500)]\n",
    "vwind_10m = ds.VGRD_P0_L103_GLC0[0,0:int(yy+1000),0:int(xx+500)]\n",
    "RH = ds.RH_P0_L100_GLC0[:,0:int(yy+1000),0:int(xx+500)]\n",
    "RH_2m =ds.RH_P0_L103_GLC0[0:int(yy+1000),0:int(xx+500)]\n",
    "DPT = ds.DPT_P0_L103_GLC0[0:int(yy+1000),0:int(xx+500)]\n",
    "#lon_2d, lat_2d = np.meshgrid(ds['gridlon_0'], ds['gridlat_0'])"
   ]
  },
  {
   "cell_type": "code",
   "execution_count": 6,
   "metadata": {
    "ExecuteTime": {
     "end_time": "2019-02-16T00:16:45.017339Z",
     "start_time": "2019-02-16T00:16:45.012336Z"
    }
   },
   "outputs": [],
   "source": [
    "# Function used to create the map subplots\n",
    "def plot_background(ax):\n",
    "    ax.set_extent([-108+360.,-126.5+360., 32., 49.])\n",
    "    ax.coastlines(resolution='10m', linewidth=2, color = 'black', zorder = 4)\n",
    "    political_boundaries = NaturalEarthFeature(category='cultural',\n",
    "                                   name='admin_0_boundary_lines_land',\n",
    "                                   scale='10m', facecolor='none')\n",
    "    states = NaturalEarthFeature(category='cultural',\n",
    "                                   name='admin_1_states_provinces_lines',\n",
    "                                   scale='50m', facecolor='none')\n",
    "\n",
    "    ax.add_feature(political_boundaries, linestyle='-', edgecolor='black', zorder =4)\n",
    "    ax.add_feature(states, linestyle='-', edgecolor='black',linewidth=2, zorder =4)\n",
    "    #gl = ax.gridlines(draw_labels=True)\n",
    "    #gl.xlabels_top = gl.ylabels_right = False\n",
    "    #gl.xformatter = LONGITUDE_FORMATTER\n",
    "    #gl.yformatter = LATITUDE_FORMATTER\n",
    "    return ax"
   ]
  },
  {
   "cell_type": "code",
   "execution_count": 8,
   "metadata": {
    "ExecuteTime": {
     "end_time": "2019-02-16T00:16:47.833624Z",
     "start_time": "2019-02-16T00:16:47.829613Z"
    }
   },
   "outputs": [],
   "source": [
    "RH = data.metpy.parse_cf('RH_P0_L100_GLC0')\n",
    "RH = RH[:,0:int(yy+1000),0:int(xx+500)]\n",
    "x, y = RH.metpy.coordinates('x', 'y')\n"
   ]
  },
  {
   "cell_type": "code",
   "execution_count": 7,
   "metadata": {
    "ExecuteTime": {
     "end_time": "2019-02-16T00:16:46.521355Z",
     "start_time": "2019-02-16T00:16:46.518679Z"
    }
   },
   "outputs": [],
   "source": [
    "lccProjParams_HRRR = { 'central_latitude'   : -38.5,        # same as lat_0 in proj4 string \n",
    "                       'central_longitude'  : -97.5,        # same as lon_0\n",
    "                       'standard_parallels' : (38.5, 38.5), # same as (lat_1, lat_2)\n",
    "                     }\n",
    "\n",
    "crs = ccrs.LambertConformal(**lccProjParams_HRRR)"
   ]
  },
  {
   "cell_type": "code",
   "execution_count": null,
   "metadata": {
    "ExecuteTime": {
     "end_time": "2019-02-15T23:09:47.831678Z",
     "start_time": "2019-02-15T23:07:52.884033Z"
    },
    "scrolled": false
   },
   "outputs": [],
   "source": [
    "var = RH\n",
    "\n",
    "fig, ax = plt.subplots(figsize = (20,20),subplot_kw={'projection': crs})\n",
    "plot_background(ax)\n",
    "clevs = np.arange(0.,105.,1)\n",
    "levs = np.arange(0,6000.,500)\n",
    "levs2 = np.arange(1,3000.,250)\n",
    "cf = ax.contourf(x,y,var[26], clevs, transform = ccrs.PlateCarree(), cmap = 'viridis_r', alpha = .7, zorder = 2, vmax = 80)\n",
    "cs1 =ax.contour(elev.longitude,elev.latitude, elev.elevation, levs, transform = ccrs.PlateCarree(), colors = '#333333', zorder = 1)\n",
    "#cs =ax.contour(lon_2d,lat_2d, heights_700,levs, transform = ccrs.PlateCarree(), linewidths = 3, colors = '#116000')\n",
    "#ax.clabel(cs, cs.levels, fontsize=20, colors='k')\n",
    "\n",
    "ax.scatter(-121.6219, 39.7596, s =300,  marker = '*', label = 'Paradise, California', transform = ccrs.PlateCarree(), color = 'tab:red', zorder =6)\n",
    "sknum = 15\n",
    "skip=(slice(None,None,sknum),slice(None,None,sknum))\n",
    "ax.barbs(x[skip].values,y[skip].values, uwind_pres[26,0:int(yy+1000),0:int(xx+600)][skip].values, vwind_pres[26,0:int(yy+1000),0:int(xx+600)][skip].values, length=6,\n",
    "             sizes=dict(emptybarb=0.25, spacing=.2, height=0.5),\n",
    "             zorder = 5,\n",
    "             linewidth=0.95, transform= ccrs.PlateCarree())\n",
    "#ax.barbs(x[::50].values,y[::50].values, uwind_pres[26][::50].values, vwind_pres[26][::50].values, transform = ccrs.PlateCarree(), zorder = 5)\n",
    "#ax.set_title('201]-11-08 0000UTC GFS 0.5°', fontsize = 30)\n",
    "ax.add_feature(USCOUNTIES.with_scale('500k'), edgecolor='black', linewidth=.2, zorder = 4)\n",
    "ax.legend(loc = 1,fontsize = '18')\n",
    "cb = fig.colorbar(cf, shrink=0.74, pad=0)\n",
    "font_size = 20 # Adjust as appropriate.\n",
    "cb.ax.tick_params(labelsize=font_size)\n",
    "cb.set_label('RH (%)', size = 'x-large', fontsize = 22 )\n",
    "for label in (ax.get_xticklabels() + ax.get_yticklabels()):\n",
    "    label.set_fontname('Arial')\n",
    "    label.set_fontsize(30)\n",
    "    label.set_fontweight('bold');\n",
    "plt.title('HRRR Model Output', loc='left', fontweight='bold', fontsize = 22)\n",
    "plt.title('Field: %s' % (var.attrs['long_name']), loc='center', fontsize = 18)\n",
    "plt.title('Valid Time: %s\\nLevel: %s hPa' % (var.attrs['initial_time'], int(var[26].coords['lv_ISBL0'].data)/100), loc='right', fontsize = 18)\n",
    "plt.savefig('HRRR_RH_%s_%sz_%s.png'% (var.attrs['initial_time'][3:5],var.attrs['initial_time'][12:14], int(var[26].coords['lv_ISBL0'].data)/100), dpi = 800, bbox_inches = 'tight')"
   ]
  }
 ],
 "metadata": {
  "kernelspec": {
   "display_name": "Python 3",
   "language": "python",
   "name": "python3"
  },
  "language_info": {
   "codemirror_mode": {
    "name": "ipython",
    "version": 3
   },
   "file_extension": ".py",
   "mimetype": "text/x-python",
   "name": "python",
   "nbconvert_exporter": "python",
   "pygments_lexer": "ipython3",
   "version": "3.7.1"
  },
  "varInspector": {
   "cols": {
    "lenName": 16,
    "lenType": 16,
    "lenVar": 40
   },
   "kernels_config": {
    "python": {
     "delete_cmd_postfix": "",
     "delete_cmd_prefix": "del ",
     "library": "var_list.py",
     "varRefreshCmd": "print(var_dic_list())"
    },
    "r": {
     "delete_cmd_postfix": ") ",
     "delete_cmd_prefix": "rm(",
     "library": "var_list.r",
     "varRefreshCmd": "cat(var_dic_list()) "
    }
   },
   "types_to_exclude": [
    "module",
    "function",
    "builtin_function_or_method",
    "instance",
    "_Feature"
   ],
   "window_display": false
  }
 },
 "nbformat": 4,
 "nbformat_minor": 2
}
